{
 "cells": [
  {
   "cell_type": "code",
   "execution_count": 1,
   "id": "35d02a98",
   "metadata": {},
   "outputs": [],
   "source": [
    "from dotenv import load_dotenv\n",
    "load_dotenv()\n",
    "import os\n",
    "\n",
    "## Transaction Details Module\n",
    "from pyspark.sql import SparkSession\n",
    "\n",
    "spark = SparkSession.builder.master(\"local[*]\").appName(\"Application Front-End\").getOrCreate()\n"
   ]
  },
  {
   "cell_type": "code",
   "execution_count": 2,
   "id": "9e317ce1",
   "metadata": {},
   "outputs": [],
   "source": [
    "# Load Data to Dataframe from Databse\n",
    "df1=spark.read.format(\"jdbc\").options(driver=\"com.mysql.cj.jdbc.Driver\",\\\n",
    "                                      user=os.getenv(\"MYSQL_USER\"),\\\n",
    "                                      password=os.getenv(\"MYSQL_PASS\"),\\\n",
    "                                      url=\"jdbc:mysql://{}:3306/creditcard_capstone\".format(os.getenv(\"MYSQL_HOST\")),\\\n",
    "                                      dbtable=\"CDW_SAPP_BRANCH\").load()\n",
    "\n",
    "df2=spark.read.format(\"jdbc\").options(driver=\"com.mysql.cj.jdbc.Driver\",\\\n",
    "                                      user=os.getenv(\"MYSQL_USER\"),\\\n",
    "                                      password=os.getenv(\"MYSQL_PASS\"),\\\n",
    "                                      url=\"jdbc:mysql://{}:3306/creditcard_capstone\".format(os.getenv(\"MYSQL_HOST\")),\\\n",
    "                                      dbtable=\"CDW_SAPP_CREDIT_CARD\").load()\n",
    "\n",
    "df3=spark.read.format(\"jdbc\").options(driver=\"com.mysql.cj.jdbc.Driver\",\\\n",
    "                                      user=os.getenv(\"MYSQL_USER\"),\\\n",
    "                                      password=os.getenv(\"MYSQL_PASS\"),\\\n",
    "                                      url=\"jdbc:mysql://{}:3306/creditcard_capstone\".format(os.getenv(\"MYSQL_HOST\")),\\\n",
    "                                      dbtable=\"CDW_SAPP_CUSTOMER\").load()\n",
    "\n",
    "# Romove Existing Temporary Tables\n",
    "spark.catalog.dropTempView(\"Branch\")\n",
    "spark.catalog.dropTempView(\"Card\")\n",
    "spark.catalog.dropTempView(\"Customer\")\n",
    "\n",
    "# Creat new Tables\n",
    "df1.createTempView(\"Branch\")\n",
    "df2.createTempView(\"Card\")\n",
    "df3.createTempView(\"Customer\")\n"
   ]
  },
  {
   "cell_type": "code",
   "execution_count": 3,
   "id": "ab9644c1",
   "metadata": {},
   "outputs": [
    {
     "name": "stdout",
     "output_type": "stream",
     "text": [
      "+----------------+--------+---------+-----------+----------------+-----------------+--------------+---------+----------+-----------+---------+----------------+--------------------+---------+----------+-------------+--------+----------+--------------------+--------------------+\n",
      "|  CREDIT_CARD_NO|  TIMEID| CUST_SSN|BRANCH_CODE|TRANSACTION_TYPE|TRANSACTION_VALUE|TRANSACTION_ID|      SSN|FIRST_NAME|MIDDLE_NAME|LAST_NAME|  Credit_card_no| FULL_STREET_ADDRESS|CUST_CITY|CUST_STATE| CUST_COUNTRY|CUST_ZIP|CUST_PHONE|          CUST_EMAIL|        LAST_UPDATED|\n",
      "+----------------+--------+---------+-----------+----------------+-----------------+--------------+---------+----------+-----------+---------+----------------+--------------------+---------+----------+-------------+--------+----------+--------------------+--------------------+\n",
      "|4210653316474645|20180928|123457245|         31|       Education|            37.61|         14278|123457245|    Rodger|      ronny|   Chacon|4210653316474645|   Summer Street,793|  Huntley|        IL|United States|   60142|  124-1884| RChacon@example.com|2018-04-21T12:49:...|\n",
      "|4210653348574254|20180927|123458563|         45|             Gas|            34.44|          6971|123458563|  Cristina|     manual|  Spencer|4210653348574254|   Dogwood Drive,872|  Huntley|        IL|United States|   60142|  124-0817|CSpencer@example.com|2018-04-21T12:49:...|\n",
      "|4210653316474645|20180927|123457245|          8|            Test|            12.84|         14293|123457245|    Rodger|      ronny|   Chacon|4210653316474645|   Summer Street,793|  Huntley|        IL|United States|   60142|  124-1884| RChacon@example.com|2018-04-21T12:49:...|\n",
      "|4210653316474645|20180924|123457245|         12|           Bills|            62.55|         14346|123457245|    Rodger|      ronny|   Chacon|4210653316474645|   Summer Street,793|  Huntley|        IL|United States|   60142|  124-1884| RChacon@example.com|2018-04-21T12:49:...|\n",
      "|4210653348574254|20180924|123458563|         47|         Grocery|              5.4|          6977|123458563|  Cristina|     manual|  Spencer|4210653348574254|   Dogwood Drive,872|  Huntley|        IL|United States|   60142|  124-0817|CSpencer@example.com|2018-04-21T12:49:...|\n",
      "|4210653316474645|20180920|123457245|         30|       Education|            45.81|         14273|123457245|    Rodger|      ronny|   Chacon|4210653316474645|   Summer Street,793|  Huntley|        IL|United States|   60142|  124-1884| RChacon@example.com|2018-04-21T12:49:...|\n",
      "|4210653310116272|20180918|123454487|         32|           Bills|            41.43|         28698|123454487|    Wilber|   ezequiel|   Dunham|4210653310116272|12th Street East,683|  Huntley|        IL|United States|   60142|  124-3018| WDunham@example.com|2018-04-21T12:49:...|\n",
      "|4210653331330633|20180917|123459511|         69|         Grocery|            50.99|          2464|123459511|      Aron|     isabel|   Guzman|4210653331330633| Glenwood Avenue,270|  Huntley|        IL|United States|   60142|  123-5944| AGuzman@example.com|2018-04-21T12:49:...|\n",
      "|4210653310116272|20180915|123454487|         24|       Education|             3.11|         28724|123454487|    Wilber|   ezequiel|   Dunham|4210653310116272|12th Street East,683|  Huntley|        IL|United States|   60142|  124-3018| WDunham@example.com|2018-04-21T12:49:...|\n",
      "|4210653331330633|20180915|123459511|          2|   Entertainment|             80.7|          2404|123459511|      Aron|     isabel|   Guzman|4210653331330633| Glenwood Avenue,270|  Huntley|        IL|United States|   60142|  123-5944| AGuzman@example.com|2018-04-21T12:49:...|\n",
      "|4210653316474645|20180914|123457245|        175|         Grocery|            37.53|         14312|123457245|    Rodger|      ronny|   Chacon|4210653316474645|   Summer Street,793|  Huntley|        IL|United States|   60142|  124-1884| RChacon@example.com|2018-04-21T12:49:...|\n",
      "|4210653369092976|20180914|123454276|         18|             Gas|            63.06|         30120|123454276|     Allan|       jere|   Osborn|4210653369092976| Brookside Drive,588|  Huntley|        IL|United States|   60142|  123-5033| AOsborn@example.com|2018-04-21T12:49:...|\n",
      "|4210653369092976|20180913|123454276|         10|      Healthcare|             35.6|         30159|123454276|     Allan|       jere|   Osborn|4210653369092976| Brookside Drive,588|  Huntley|        IL|United States|   60142|  123-5033| AOsborn@example.com|2018-04-21T12:49:...|\n",
      "|4210653310116272|20180912|123454487|         59|   Entertainment|           100.12|         28730|123454487|    Wilber|   ezequiel|   Dunham|4210653310116272|12th Street East,683|  Huntley|        IL|United States|   60142|  124-3018| WDunham@example.com|2018-04-21T12:49:...|\n",
      "|4210653316474645|20180912|123457245|          4|       Education|            80.26|         14311|123457245|    Rodger|      ronny|   Chacon|4210653316474645|   Summer Street,793|  Huntley|        IL|United States|   60142|  124-1884| RChacon@example.com|2018-04-21T12:49:...|\n",
      "|4210653316474645|20180911|123457245|         18|         Grocery|            24.75|         14298|123457245|    Rodger|      ronny|   Chacon|4210653316474645|   Summer Street,793|  Huntley|        IL|United States|   60142|  124-1884| RChacon@example.com|2018-04-21T12:49:...|\n",
      "|4210653331330633|20180910|123459511|         76|         Grocery|            24.03|          2428|123459511|      Aron|     isabel|   Guzman|4210653331330633| Glenwood Avenue,270|  Huntley|        IL|United States|   60142|  123-5944| AGuzman@example.com|2018-04-21T12:49:...|\n",
      "|4210653331330633|20180907|123459511|         43|   Entertainment|             62.1|          2414|123459511|      Aron|     isabel|   Guzman|4210653331330633| Glenwood Avenue,270|  Huntley|        IL|United States|   60142|  123-5944| AGuzman@example.com|2018-04-21T12:49:...|\n",
      "|4210653331330633|20180907|123459511|         49|           Bills|            39.58|          2400|123459511|      Aron|     isabel|   Guzman|4210653331330633| Glenwood Avenue,270|  Huntley|        IL|United States|   60142|  123-5944| AGuzman@example.com|2018-04-21T12:49:...|\n",
      "|4210653316474645|20180904|123457245|         16|      Healthcare|            38.69|         14303|123457245|    Rodger|      ronny|   Chacon|4210653316474645|   Summer Street,793|  Huntley|        IL|United States|   60142|  124-1884| RChacon@example.com|2018-04-21T12:49:...|\n",
      "+----------------+--------+---------+-----------+----------------+-----------------+--------------+---------+----------+-----------+---------+----------------+--------------------+---------+----------+-------------+--------+----------+--------------------+--------------------+\n",
      "only showing top 20 rows\n",
      "\n"
     ]
    }
   ],
   "source": [
    "#1)  Used to display the transactions made by customers living in a given zip code for a given month and year. Order by day in descending order.\n",
    "Inputzip=60142\n",
    "Inputyr=2018\n",
    "Inputmon=9\n",
    "spark.sql(\"SELECT * FROM Card \\\n",
    "          JOIN Customer ON Customer.SSN=Card.CUST_SSN \\\n",
    "          WHERE Customer.CUST_ZIP='{}' and TIMEID Like concat({},lpad({}, 2,'0'),'%')\\\n",
    "          ORDER BY TIMEID DESC\".format(Inputzip, Inputyr, Inputmon)).show()"
   ]
  },
  {
   "cell_type": "code",
   "execution_count": 4,
   "id": "e3375255",
   "metadata": {},
   "outputs": [
    {
     "name": "stdout",
     "output_type": "stream",
     "text": [
      "+----------------------+------------------+\n",
      "|Number_of_transactions|      Total_Values|\n",
      "+----------------------+------------------+\n",
      "|                  6683|341310.37000000005|\n",
      "+----------------------+------------------+\n",
      "\n"
     ]
    }
   ],
   "source": [
    "#2)  Used to display the number and total values of transactions for a given type.\n",
    "Inputtype='Test'\n",
    "spark.sql(\"SELECT COUNT(TRANSACTION_ID) AS Number_of_transactions, SUM(TRANSACTION_VALUE) AS Total_Values FROM Card \\\n",
    "          WHERE TRANSACTION_TYPE='{}' \\\n",
    "          GROUP BY TRANSACTION_TYPE\".format(Inputtype)).show()"
   ]
  },
  {
   "cell_type": "code",
   "execution_count": 5,
   "id": "0293695d",
   "metadata": {},
   "outputs": [
    {
     "name": "stdout",
     "output_type": "stream",
     "text": [
      "+----------------------+-------------------------+\n",
      "|Number_of_Transactions|Transactions_Total_Values|\n",
      "+----------------------+-------------------------+\n",
      "|                  1127|       56153.289999999935|\n",
      "+----------------------+-------------------------+\n",
      "\n"
     ]
    }
   ],
   "source": [
    "#3)  Used to display the number and total values of transactions for branches in a given state.\n",
    "InputState='MN'\n",
    "spark.sql(\"SELECT COUNT(TRANSACTION_ID) AS Number_of_Transactions, SUM(TRANSACTION_VALUE) AS Transactions_Total_Values FROM Card \\\n",
    "          JOIN Branch ON Card.BRANCH_CODE=Branch.BRANCH_CODE\\\n",
    "          WHERE BRANCH_STATE='{}' \\\n",
    "          GROUP BY BRANCH_STATE\".format(InputState)).show()"
   ]
  },
  {
   "cell_type": "code",
   "execution_count": 6,
   "id": "2402119a",
   "metadata": {},
   "outputs": [],
   "source": [
    "## Customer Details Module\n"
   ]
  },
  {
   "cell_type": "code",
   "execution_count": 7,
   "id": "54fc82b0",
   "metadata": {},
   "outputs": [
    {
     "name": "stdout",
     "output_type": "stream",
     "text": [
      "+---------+----------+-----------+---------+----------------+--------------------+---------+----------+-------------+--------+----------+-------------------+--------------------+\n",
      "|      SSN|FIRST_NAME|MIDDLE_NAME|LAST_NAME|  Credit_card_no| FULL_STREET_ADDRESS|CUST_CITY|CUST_STATE| CUST_COUNTRY|CUST_ZIP|CUST_PHONE|         CUST_EMAIL|        LAST_UPDATED|\n",
      "+---------+----------+-----------+---------+----------------+--------------------+---------+----------+-------------+--------+----------+-------------------+--------------------+\n",
      "|123454487|    Wilber|   ezequiel|   Dunham|4210653310116272|12th Street East,683|  Huntley|        IL|United States|   60142|  124-3018|WDunham@example.com|2018-04-21T12:49:...|\n",
      "+---------+----------+-----------+---------+----------------+--------------------+---------+----------+-------------+--------+----------+-------------------+--------------------+\n",
      "\n"
     ]
    }
   ],
   "source": [
    "#1) Used to check the existing account details of a customer.\n",
    "InputSSN=123454487\n",
    "\n",
    "spark.sql(\"SELECT * FROM Customer \\\n",
    "          WHERE SSN='{}'\".format(InputSSN)).show()\n",
    "\n",
    "#InputCardno=4210653310356919\n",
    "#spark.sql(\"SELECT * FROM Customer WHERE Credit_card_no='{}'\".format(InputCardno)).show()"
   ]
  },
  {
   "cell_type": "code",
   "execution_count": 11,
   "id": "25712361",
   "metadata": {},
   "outputs": [
    {
     "name": "stdout",
     "output_type": "stream",
     "text": [
      "1 record(s) affected\n"
     ]
    }
   ],
   "source": [
    "#2) Used to modify the existing account details of a customer.\n",
    "\n",
    "#from pyspark.sql.functions import when\n",
    "\n",
    "InputSSN=123454487\n",
    "\n",
    "#Method 1\n",
    "\n",
    "#df3n = df3.withColumn(\"FIRST_NAME\", when(df3.SSN == \"{}\".format(InputSSN),\"Harry\"))\n",
    " \n",
    "#df3n.filter(df3.SSN ==\"{}\".format(InputSSN)).show(truncate=False)\n",
    "\n",
    "    \n",
    "#df3n.write.format(\"jdbc\").mode(\"overwrite\").option(\"driver\",\"com.mysql.jdbc.Driver\")\\\n",
    "#    .option(\"url\", \"jdbc:mysql://{}:3306/creditcard_capstone\".format(os.getenv(\"MYSQL_HOST\"))) \\\n",
    "#\t.option(\"dbtable\", \"CDW_SAPP_CUSTOMER\") \\\n",
    "#\t.option(\"user\", os.getenv(\"MYSQL_USER\")).option(\"password\", os.getenv(\"MYSQL_PASS\")).save()\n",
    "\n",
    "\n",
    "# Methond 2\n",
    "import mysql.connector\n",
    "\n",
    "mydb = mysql.connector.connect(\n",
    "  host=os.getenv(\"MYSQL_HOST\"),\n",
    "  user=os.getenv(\"MYSQL_USER\"),\n",
    "  password=os.getenv(\"MYSQL_PASS\"),\n",
    "  database=\"creditcard_capstone\"\n",
    ")\n",
    "\n",
    "mycursor = mydb.cursor()\n",
    "\n",
    "sql = \"UPDATE CDW_SAPP_CUSTOMER SET FIRST_NAME = %s WHERE SSN = %s\"\n",
    "val=(\"Yiting\", InputSSN)\n",
    "\n",
    "mycursor.execute(sql, val)\n",
    "\n",
    "\n",
    "mydb.commit()\n",
    "\n",
    "print(mycursor.rowcount, \"record(s) affected\")"
   ]
  },
  {
   "cell_type": "code",
   "execution_count": 14,
   "id": "cee5528c",
   "metadata": {},
   "outputs": [
    {
     "name": "stdout",
     "output_type": "stream",
     "text": [
      "+------------+\n",
      "|Monthly_Bill|\n",
      "+------------+\n",
      "|       56.28|\n",
      "+------------+\n",
      "\n"
     ]
    }
   ],
   "source": [
    "#3) Used to generate a monthly bill for a credit card number for a given month and year.\n",
    "Mon=5\n",
    "Yr=2018\n",
    "Cardno=4210653310356919\n",
    "spark.sql(\"SELECT SUM(TRANSACTION_VALUE) AS Monthly_Bill FROM Card\\\n",
    "          JOIN Customer ON Card.Credit_card_no=Customer.Credit_card_no\\\n",
    "          WHERE card.Credit_card_no='{}' AND TIMEID Like concat({},lpad({}, 2,'0'),'%')\\\n",
    "          GROUP BY card.Credit_card_no\".format(Cardno, Yr, Mon)).show()"
   ]
  },
  {
   "cell_type": "code",
   "execution_count": 15,
   "id": "6256110e",
   "metadata": {},
   "outputs": [
    {
     "name": "stdout",
     "output_type": "stream",
     "text": [
      "+----------------+--------+---------+-----------+----------------+-----------------+--------------+---------+----------+-----------+---------+----------------+--------------------+---------+----------+-------------+--------+----------+-------------------+--------------------+\n",
      "|  CREDIT_CARD_NO|  TIMEID| CUST_SSN|BRANCH_CODE|TRANSACTION_TYPE|TRANSACTION_VALUE|TRANSACTION_ID|      SSN|FIRST_NAME|MIDDLE_NAME|LAST_NAME|  Credit_card_no| FULL_STREET_ADDRESS|CUST_CITY|CUST_STATE| CUST_COUNTRY|CUST_ZIP|CUST_PHONE|         CUST_EMAIL|        LAST_UPDATED|\n",
      "+----------------+--------+---------+-----------+----------------+-----------------+--------------+---------+----------+-----------+---------+----------------+--------------------+---------+----------+-------------+--------+----------+-------------------+--------------------+\n",
      "|4210653310116272|20180321|123454487|        105|             Gas|            88.42|         28702|123454487|    Wilber|   ezequiel|   Dunham|4210653310116272|12th Street East,683|  Huntley|        IL|United States|   60142|  124-3018|WDunham@example.com|2018-04-21T12:49:...|\n",
      "|4210653310116272|20180320|123454487|         19|            Test|            50.15|         28699|123454487|    Wilber|   ezequiel|   Dunham|4210653310116272|12th Street East,683|  Huntley|        IL|United States|   60142|  124-3018|WDunham@example.com|2018-04-21T12:49:...|\n",
      "|4210653310116272|20180224|123454487|        192|            Test|            70.37|         28709|123454487|    Wilber|   ezequiel|   Dunham|4210653310116272|12th Street East,683|  Huntley|        IL|United States|   60142|  124-3018|WDunham@example.com|2018-04-21T12:49:...|\n",
      "|4210653310116272|20180220|123454487|         48|            Test|            62.97|         28704|123454487|    Wilber|   ezequiel|   Dunham|4210653310116272|12th Street East,683|  Huntley|        IL|United States|   60142|  124-3018|WDunham@example.com|2018-04-21T12:49:...|\n",
      "|4210653310116272|20180218|123454487|        118|            Test|            58.83|         28728|123454487|    Wilber|   ezequiel|   Dunham|4210653310116272|12th Street East,683|  Huntley|        IL|United States|   60142|  124-3018|WDunham@example.com|2018-04-21T12:49:...|\n",
      "+----------------+--------+---------+-----------+----------------+-----------------+--------------+---------+----------+-----------+---------+----------------+--------------------+---------+----------+-------------+--------+----------+-------------------+--------------------+\n",
      "\n"
     ]
    }
   ],
   "source": [
    "#4) Used to display the transactions made by a customer between two dates. Order by year, month, and day in descending order.\n",
    "#Assume Date2 > Date1\n",
    "\n",
    "Date1=20180123\n",
    "Date2=20180325\n",
    "InputSSN=123454487\n",
    "\n",
    "spark.sql(\"SELECT * FROM Card JOIN Customer ON Customer.SSN=Card.CUST_SSN \\\n",
    "          WHERE SSN='{}'AND TIMEID>='{}' AND TIMEID<='{}'\\\n",
    "          ORDER BY TIMEID DESC\".format(InputSSN,Date1,Date2)).show()"
   ]
  },
  {
   "cell_type": "code",
   "execution_count": null,
   "id": "2cf25d23",
   "metadata": {},
   "outputs": [],
   "source": []
  },
  {
   "cell_type": "code",
   "execution_count": null,
   "id": "28c8f32a",
   "metadata": {},
   "outputs": [],
   "source": []
  }
 ],
 "metadata": {
  "kernelspec": {
   "display_name": "Python 3 (ipykernel)",
   "language": "python",
   "name": "python3"
  },
  "language_info": {
   "codemirror_mode": {
    "name": "ipython",
    "version": 3
   },
   "file_extension": ".py",
   "mimetype": "text/x-python",
   "name": "python",
   "nbconvert_exporter": "python",
   "pygments_lexer": "ipython3",
   "version": "3.9.12"
  },
  "vscode": {
   "interpreter": {
    "hash": "ff4f85d6e04298634172ac5d8264e7e9b556b95639fe52ebb9425c4d4cba0c9c"
   }
  }
 },
 "nbformat": 4,
 "nbformat_minor": 5
}
