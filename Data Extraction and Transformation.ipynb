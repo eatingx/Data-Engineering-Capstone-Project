{
 "cells": [
  {
   "cell_type": "code",
   "execution_count": 10,
   "id": "d094d554",
   "metadata": {},
   "outputs": [],
   "source": [
    "from dotenv import load_dotenv\n",
    "load_dotenv()\n",
    "import os\n",
    "\n",
    "import pyspark\n",
    "from pyspark.sql import SparkSession #Importing the Libraries\n",
    "# Creating Spark Session\n",
    "spark = SparkSession.builder.appName('Capstone.com').getOrCreate()"
   ]
  },
  {
   "cell_type": "code",
   "execution_count": 2,
   "id": "8995088c",
   "metadata": {},
   "outputs": [
    {
     "name": "stdout",
     "output_type": "stream",
     "text": [
      "+-----------------+-----------+------------+------------+------------+-----------------+----------+--------------------+\n",
      "|      BRANCH_CITY|BRANCH_CODE| BRANCH_NAME|BRANCH_PHONE|BRANCH_STATE|    BRANCH_STREET|BRANCH_ZIP|        LAST_UPDATED|\n",
      "+-----------------+-----------+------------+------------+------------+-----------------+----------+--------------------+\n",
      "|        Lakeville|          1|Example Bank|  1234565276|          MN|     Bridle Court|     55044|2018-04-18T16:51:...|\n",
      "|          Huntley|          2|Example Bank|  1234618993|          IL|Washington Street|     60142|2018-04-18T16:51:...|\n",
      "|SouthRichmondHill|          3|Example Bank|  1234985926|          NY|    Warren Street|     11419|2018-04-18T16:51:...|\n",
      "|       Middleburg|          4|Example Bank|  1234663064|          FL| Cleveland Street|     32068|2018-04-18T16:51:...|\n",
      "|    KingOfPrussia|          5|Example Bank|  1234849701|          PA|      14th Street|     19406|2018-04-18T16:51:...|\n",
      "+-----------------+-----------+------------+------------+------------+-----------------+----------+--------------------+\n",
      "only showing top 5 rows\n",
      "\n",
      "+-----------+----------------+---------+---+-----+--------------+----------------+-----------------+----+\n",
      "|BRANCH_CODE|  CREDIT_CARD_NO| CUST_SSN|DAY|MONTH|TRANSACTION_ID|TRANSACTION_TYPE|TRANSACTION_VALUE|YEAR|\n",
      "+-----------+----------------+---------+---+-----+--------------+----------------+-----------------+----+\n",
      "|        114|4210653349028689|123459988| 14|    2|             1|       Education|             78.9|2018|\n",
      "|         35|4210653349028689|123459988| 20|    3|             2|   Entertainment|            14.24|2018|\n",
      "|        160|4210653349028689|123459988|  8|    7|             3|         Grocery|             56.7|2018|\n",
      "|        114|4210653349028689|123459988| 19|    4|             4|   Entertainment|            59.73|2018|\n",
      "|         93|4210653349028689|123459988| 10|   10|             5|             Gas|             3.59|2018|\n",
      "+-----------+----------------+---------+---+-----+--------------+----------------+-----------------+----+\n",
      "only showing top 5 rows\n",
      "\n",
      "+------+----------------+------------+-------------+-------------------+----------+----------+--------+----------+---------+--------------------+-----------+---------+-----------------+\n",
      "|APT_NO|  CREDIT_CARD_NO|   CUST_CITY| CUST_COUNTRY|         CUST_EMAIL|CUST_PHONE|CUST_STATE|CUST_ZIP|FIRST_NAME|LAST_NAME|        LAST_UPDATED|MIDDLE_NAME|      SSN|      STREET_NAME|\n",
      "+------+----------------+------------+-------------+-------------------+----------+----------+--------+----------+---------+--------------------+-----------+---------+-----------------+\n",
      "|   656|4210653310061055|     Natchez|United States|AHooper@example.com|   1237818|        MS|   39120|      Alec|   Hooper|2018-04-21T12:49:...|         Wm|123456100|Main Street North|\n",
      "|   829|4210653310102868|Wethersfield|United States|EHolman@example.com|   1238933|        CT|   06109|      Etta|   Holman|2018-04-21T12:49:...|    Brendan|123453023|    Redwood Drive|\n",
      "|   683|4210653310116272|     Huntley|United States|WDunham@example.com|   1243018|        IL|   60142|    Wilber|   Dunham|2018-04-21T12:49:...|   Ezequiel|123454487| 12th Street East|\n",
      "|   253|4210653310195948|   NewBerlin|United States| EHardy@example.com|   1243215|        WI|   53151|   Eugenio|    Hardy|2018-04-21T12:49:...|      Trina|123459758|Country Club Road|\n",
      "|   301|4210653310356919|      ElPaso|United States| WAyers@example.com|   1242074|        TX|   79930|   Wilfred|    Ayers|2018-04-21T12:49:...|        May|123454431|   Madison Street|\n",
      "+------+----------------+------------+-------------+-------------------+----------+----------+--------+----------+---------+--------------------+-----------+---------+-----------------+\n",
      "only showing top 5 rows\n",
      "\n"
     ]
    }
   ],
   "source": [
    "#JSON Extract Function\n",
    "df1= spark.read.json(\"CDW_SAPP_BRANCH.JSON\")\n",
    "df2= spark.read.json(\"CDW_SAPP_CREDITCARD.JSON\")\n",
    "df3= spark.read.json(\"CDW_SAPP_CUSTOMER.JSON\")\n",
    "df1.show(5)\n",
    "df2.show(5)\n",
    "df3.show(5)"
   ]
  },
  {
   "cell_type": "code",
   "execution_count": 3,
   "id": "c81fa74a",
   "metadata": {},
   "outputs": [],
   "source": [
    "#df1.printSchema()\n",
    "#df2.printSchema()\n",
    "#df3.printSchema()"
   ]
  },
  {
   "cell_type": "code",
   "execution_count": 4,
   "id": "b1148448",
   "metadata": {},
   "outputs": [],
   "source": [
    "# Transform\n",
    "#Note: Data Engineers will be required to transform the data based on the requirements found in the Mapping Document.\n",
    "#Mapping Document:https://docs.google.com/spreadsheets/d/1t8UxBrUV6dxx0pM1VIIGZpSf4IKbzjdJ/edit#gid=672931242\n",
    "#Hint: [You can use  PYSQL “select statement query” or simple Pyspark RDD].\n",
    "from pyspark.sql.functions import *"
   ]
  },
  {
   "cell_type": "code",
   "execution_count": 5,
   "id": "b1ecd7d4",
   "metadata": {},
   "outputs": [],
   "source": [
    "df1=df1.na.fill(99999,[\"BRANCH_ZIP\"])\n",
    "df1=df1.select(\"BRANCH_CODE\", \n",
    "           \"BRANCH_NAME\", \n",
    "           \"BRANCH_STREET\",\n",
    "           \"BRANCH_CITY\", \n",
    "           \"BRANCH_STATE\",\n",
    "           \"BRANCH_ZIP\",\n",
    "           regexp_replace(\"BRANCH_PHONE\", '(\\d\\d\\d)(\\d\\d\\d)(\\d\\d\\d\\d)', '($1)$2-$3').alias(\"BRANCH_PHONE\"),\n",
    "           \"LAST_UPDATED\")"
   ]
  },
  {
   "cell_type": "code",
   "execution_count": 6,
   "id": "95b6d9e0",
   "metadata": {},
   "outputs": [],
   "source": [
    "df2=df2.select(\"CREDIT_CARD_NO\", \n",
    "           concat(\"YEAR\",lpad(\"MONTH\",2, '0'),lpad(\"DAY\",2, '0')).alias(\"TIMEID\"), \n",
    "           \"CUST_SSN\",\n",
    "           \"BRANCH_CODE\", \n",
    "           \"TRANSACTION_TYPE\",\n",
    "           \"TRANSACTION_VALUE\",\n",
    "           \"TRANSACTION_ID\")"
   ]
  },
  {
   "cell_type": "code",
   "execution_count": 7,
   "id": "b8b2da5f",
   "metadata": {},
   "outputs": [],
   "source": [
    "df3=df3.select(\"SSN\", \n",
    "           initcap(col(\"FIRST_NAME\")).alias(\"FIRST_NAME\"), \n",
    "           lower(col(\"MIDDLE_NAME\")).alias(\"MIDDLE_NAME\"),\n",
    "            initcap(col(\"LAST_NAME\")).alias(\"LAST_NAME\"), \n",
    "           \"Credit_card_no\",\n",
    "           concat(\"STREET_NAME\",lit(\",\"),\"APT_NO\").alias(\"FULL_STREET_ADDRESS\"),\n",
    "           \"CUST_CITY\",\n",
    "           \"CUST_STATE\",\n",
    "           \"CUST_COUNTRY\",\n",
    "           \"CUST_ZIP\",\n",
    "           regexp_replace(\"CUST_PHONE\", '(\\d\\d\\d)(\\d\\d\\d\\d)', '$1-$2').alias(\"CUST_PHONE\"),\n",
    "           \"CUST_EMAIL\",\n",
    "           \"LAST_UPDATED\")"
   ]
  },
  {
   "cell_type": "code",
   "execution_count": 8,
   "id": "b6044906",
   "metadata": {},
   "outputs": [],
   "source": [
    "## Data loading into Database\n",
    "#Once PySpark reads data from JSON files, and then utilizes Python, PySpark, and Python modules to load data into RDBMS(SQL), perform the following:"
   ]
  },
  {
   "cell_type": "code",
   "execution_count": 12,
   "id": "080cad8d",
   "metadata": {},
   "outputs": [],
   "source": [
    "df1.write.format(\"jdbc\").mode(\"ignore\").option(\"driver\",\"com.mysql.jdbc.Driver\")\\\n",
    "    .option(\"url\", \"jdbc:mysql://{}:3306/creditcard_capstone\".format(os.getenv(\"MYSQL_HOST\"))) \\\n",
    "\t.option(\"dbtable\", \"CDW_SAPP_BRANCH\") \\\n",
    "\t.option(\"user\", os.getenv(\"MYSQL_USER\")).option(\"password\", os.getenv(\"MYSQL_PASS\")).save()\n"
   ]
  },
  {
   "cell_type": "code",
   "execution_count": 13,
   "id": "de6256b5",
   "metadata": {},
   "outputs": [],
   "source": [
    "df2.write.format(\"jdbc\").mode(\"ignore\").option(\"driver\",\"com.mysql.jdbc.Driver\")\\\n",
    "    .option(\"url\", \"jdbc:mysql://{}:3306/creditcard_capstone\".format(os.getenv(\"MYSQL_HOST\"))) \\\n",
    "\t.option(\"dbtable\", \"CDW_SAPP_CREDIT_CARD\") \\\n",
    "\t.option(\"user\", os.getenv(\"MYSQL_USER\")).option(\"password\", os.getenv(\"MYSQL_PASS\")).save()"
   ]
  },
  {
   "cell_type": "code",
   "execution_count": 14,
   "id": "c266d354",
   "metadata": {},
   "outputs": [],
   "source": [
    "df3.write.format(\"jdbc\").mode(\"ignore\").option(\"driver\",\"com.mysql.jdbc.Driver\")\\\n",
    "    .option(\"url\", \"jdbc:mysql://{}:3306/creditcard_capstone\".format(os.getenv(\"MYSQL_HOST\"))) \\\n",
    "\t.option(\"dbtable\", \"CDW_SAPP_CUSTOMER\") \\\n",
    "\t.option(\"user\", os.getenv(\"MYSQL_USER\")).option(\"password\", os.getenv(\"MYSQL_PASS\")).save()"
   ]
  },
  {
   "cell_type": "code",
   "execution_count": 15,
   "id": "acbbb588",
   "metadata": {},
   "outputs": [],
   "source": [
    "#"
   ]
  },
  {
   "cell_type": "code",
   "execution_count": null,
   "id": "029ebf8f",
   "metadata": {},
   "outputs": [],
   "source": []
  }
 ],
 "metadata": {
  "kernelspec": {
   "display_name": "Python 3 (ipykernel)",
   "language": "python",
   "name": "python3"
  },
  "language_info": {
   "codemirror_mode": {
    "name": "ipython",
    "version": 3
   },
   "file_extension": ".py",
   "mimetype": "text/x-python",
   "name": "python",
   "nbconvert_exporter": "python",
   "pygments_lexer": "ipython3",
   "version": "3.9.12"
  },
  "vscode": {
   "interpreter": {
    "hash": "ff4f85d6e04298634172ac5d8264e7e9b556b95639fe52ebb9425c4d4cba0c9c"
   }
  }
 },
 "nbformat": 4,
 "nbformat_minor": 5
}
